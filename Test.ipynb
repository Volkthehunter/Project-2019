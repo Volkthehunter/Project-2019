{
 "cells": [
  {
   "cell_type": "code",
   "execution_count": 3,
   "metadata": {},
   "outputs": [],
   "source": [
    "import cv2\n",
    "import module1\n",
    "import math"
   ]
  },
  {
   "cell_type": "code",
   "execution_count": 4,
   "metadata": {
    "scrolled": true
   },
   "outputs": [
    {
     "name": "stdout",
     "output_type": "stream",
     "text": [
      "([1.0, [0.164, 0.164], 2.695], None, [1.189, [0.164, 0.138], 2.266])\n",
      "([1.0, [0.18, 0.18], 3.256], None, [1.184, [0.169, 0.142], 2.416])\n",
      "([1.0, [0.176, 0.176], 3.114], None, [1.2, [0.094, 0.078], 0.738])\n",
      "([1.0, [0.192, 0.192], 3.692], None, [1.191, [0.219, 0.184], 4.047])\n",
      "([1.0, [0.188, 0.188], 3.562], None, [1.2, [0.265, 0.22], 5.854])\n",
      "([1.0, [0.188, 0.188], 3.543], None, [1.205, [0.16, 0.133], 2.143])\n",
      "([1.0, [0.176, 0.176], 3.098], None, [1.179, [0.172, 0.146], 2.516])\n",
      "([1.0, [0.185, 0.185], 3.434], None, [1.222, [0.084, 0.069], 0.59])\n",
      "([1.0, [0.182, 0.182], 3.33], None, [1.205, [0.178, 0.148], 2.65])\n",
      "([1.0, [0.201, 0.201], 4.063], None, [1.2, [0.189, 0.158], 2.999])\n",
      "([1.0, [0.103, 0.103], 1.062], None, [1.166, [0.16, 0.137], 2.202])\n"
     ]
    },
    {
     "ename": "NameError",
     "evalue": "name 'feature' is not defined",
     "output_type": "error",
     "traceback": [
      "\u001b[1;31m---------------------------------------------------------------------------\u001b[0m",
      "\u001b[1;31mNameError\u001b[0m                                 Traceback (most recent call last)",
      "\u001b[1;32m<ipython-input-4-ea5f8bc126a1>\u001b[0m in \u001b[0;36m<module>\u001b[1;34m\u001b[0m\n\u001b[0;32m     16\u001b[0m \u001b[0mvideo_capture\u001b[0m\u001b[1;33m.\u001b[0m\u001b[0mrelease\u001b[0m\u001b[1;33m(\u001b[0m\u001b[1;33m)\u001b[0m\u001b[1;33m\u001b[0m\u001b[1;33m\u001b[0m\u001b[0m\n\u001b[0;32m     17\u001b[0m \u001b[0mcv2\u001b[0m\u001b[1;33m.\u001b[0m\u001b[0mdestroyAllWindows\u001b[0m\u001b[1;33m(\u001b[0m\u001b[1;33m)\u001b[0m\u001b[1;33m\u001b[0m\u001b[1;33m\u001b[0m\u001b[0m\n\u001b[1;32m---> 18\u001b[1;33m \u001b[0mprint\u001b[0m\u001b[1;33m(\u001b[0m\u001b[0mfeature\u001b[0m\u001b[1;33m)\u001b[0m\u001b[1;33m\u001b[0m\u001b[1;33m\u001b[0m\u001b[0m\n\u001b[0m",
      "\u001b[1;31mNameError\u001b[0m: name 'feature' is not defined"
     ]
    }
   ],
   "source": [
    "video_capture = cv2.VideoCapture(0)\n",
    "# Run the infinite loop\n",
    "while True:\n",
    "    # Read each frame\n",
    "    ret, frame = video_capture.read()\n",
    "    #print(frame)\n",
    "    # Convert frame to grey because cascading only works with greyscale image\n",
    "    gray = cv2.cvtColor(frame, cv2.COLOR_BGR2GRAY)\n",
    "    # Call the detect function with grey image and colored frame\n",
    "    canvas = module1.detect(gray, frame)\n",
    "    # Show the image in the screen\n",
    "    cv2.imshow(\"Video\", canvas)\n",
    "    # Put the condition which triggers the end of program\n",
    "    if cv2.waitKey(1) & 0xFF == ord('q'):\n",
    "        break\n",
    "video_capture.release()\n",
    "cv2.destroyAllWindows()\n",
    "print(module1.feature)"
   ]
  },
  {
   "cell_type": "code",
   "execution_count": null,
   "metadata": {},
   "outputs": [],
   "source": []
  }
 ],
 "metadata": {
  "kernelspec": {
   "display_name": "Python 3",
   "language": "python",
   "name": "python3"
  },
  "language_info": {
   "codemirror_mode": {
    "name": "ipython",
    "version": 3
   },
   "file_extension": ".py",
   "mimetype": "text/x-python",
   "name": "python",
   "nbconvert_exporter": "python",
   "pygments_lexer": "ipython3",
   "version": "3.7.3"
  }
 },
 "nbformat": 4,
 "nbformat_minor": 2
}
